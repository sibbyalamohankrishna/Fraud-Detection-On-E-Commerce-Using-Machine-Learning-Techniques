{
 "cells": [
  {
   "cell_type": "code",
   "execution_count": 1,
   "metadata": {
    "colab": {},
    "colab_type": "code",
    "id": "-KwMNxdJYt2W"
   },
   "outputs": [],
   "source": [
    "import numpy as np\n",
    "import pandas as pd\n",
    "import matplotlib.pyplot as plt\n",
    "%matplotlib inline"
   ]
  },
  {
   "cell_type": "markdown",
   "metadata": {
    "colab_type": "text",
    "id": "vcgRJUizK7Ek"
   },
   "source": [
    "### **Get the data**"
   ]
  },
  {
   "cell_type": "code",
   "execution_count": 2,
   "metadata": {
    "colab": {},
    "colab_type": "code",
    "id": "sbRl6uYwYt2c"
   },
   "outputs": [],
   "source": [
    "fraud_data= pd.read_csv('Data/Fraud_Data.csv')\n",
    "ip_country=pd.read_csv('Data/IpAddress_to_Country.csv')"
   ]
  },
  {
   "cell_type": "code",
   "execution_count": 3,
   "metadata": {
    "colab": {},
    "colab_type": "code",
    "id": "UwoItOtbYt3A"
   },
   "outputs": [],
   "source": [
    "# Define a function to draw a bar chart of a specific feature in data\n",
    "def barchart(feature):\n",
    "    frau=fraud_data[fraud_data['class']==1][feature].value_counts()\n",
    "    df=pd.DataFrame([frau])\n",
    "    df.index=['frau']\n",
    "    df.plot(kind='bar')"
   ]
  },
  {
   "cell_type": "code",
   "execution_count": 4,
   "metadata": {
    "colab": {
     "base_uri": "https://localhost:8080/",
     "height": 195
    },
    "colab_type": "code",
    "executionInfo": {
     "elapsed": 805,
     "status": "ok",
     "timestamp": 1563102648677,
     "user": {
      "displayName": "Huy Nguyễn",
      "photoUrl": "",
      "userId": "13364631244044480504"
     },
     "user_tz": -180
    },
    "id": "D5_NFIxXLVle",
    "outputId": "c0c65ea4-ad3c-4c08-cabd-51bdb584b0c6"
   },
   "outputs": [
    {
     "data": {
      "text/html": [
       "<div>\n",
       "<style scoped>\n",
       "    .dataframe tbody tr th:only-of-type {\n",
       "        vertical-align: middle;\n",
       "    }\n",
       "\n",
       "    .dataframe tbody tr th {\n",
       "        vertical-align: top;\n",
       "    }\n",
       "\n",
       "    .dataframe thead th {\n",
       "        text-align: right;\n",
       "    }\n",
       "</style>\n",
       "<table border=\"1\" class=\"dataframe\">\n",
       "  <thead>\n",
       "    <tr style=\"text-align: right;\">\n",
       "      <th></th>\n",
       "      <th>user_id</th>\n",
       "      <th>signup_time</th>\n",
       "      <th>purchase_time</th>\n",
       "      <th>purchase_value</th>\n",
       "      <th>device_id</th>\n",
       "      <th>source</th>\n",
       "      <th>browser</th>\n",
       "      <th>sex</th>\n",
       "      <th>age</th>\n",
       "      <th>ip_address</th>\n",
       "      <th>class</th>\n",
       "    </tr>\n",
       "  </thead>\n",
       "  <tbody>\n",
       "    <tr>\n",
       "      <th>0</th>\n",
       "      <td>22058</td>\n",
       "      <td>24-02-2015 22:55</td>\n",
       "      <td>18-04-2015 02:47</td>\n",
       "      <td>34</td>\n",
       "      <td>QVPSPJUOCKZAR</td>\n",
       "      <td>SEO</td>\n",
       "      <td>Chrome</td>\n",
       "      <td>M</td>\n",
       "      <td>39</td>\n",
       "      <td>7.327584e+08</td>\n",
       "      <td>0</td>\n",
       "    </tr>\n",
       "    <tr>\n",
       "      <th>1</th>\n",
       "      <td>333320</td>\n",
       "      <td>07-06-2015 20:39</td>\n",
       "      <td>08-06-2015 01:38</td>\n",
       "      <td>16</td>\n",
       "      <td>EOGFQPIZPYXFZ</td>\n",
       "      <td>Ads</td>\n",
       "      <td>Chrome</td>\n",
       "      <td>F</td>\n",
       "      <td>53</td>\n",
       "      <td>3.503114e+08</td>\n",
       "      <td>0</td>\n",
       "    </tr>\n",
       "    <tr>\n",
       "      <th>2</th>\n",
       "      <td>1359</td>\n",
       "      <td>01-01-2015 18:52</td>\n",
       "      <td>01-01-2015 18:52</td>\n",
       "      <td>15</td>\n",
       "      <td>YSSKYOSJHPPLJ</td>\n",
       "      <td>SEO</td>\n",
       "      <td>Opera</td>\n",
       "      <td>M</td>\n",
       "      <td>53</td>\n",
       "      <td>2.621474e+09</td>\n",
       "      <td>1</td>\n",
       "    </tr>\n",
       "    <tr>\n",
       "      <th>3</th>\n",
       "      <td>150084</td>\n",
       "      <td>28-04-2015 21:13</td>\n",
       "      <td>04-05-2015 13:54</td>\n",
       "      <td>44</td>\n",
       "      <td>ATGTXKYKUDUQN</td>\n",
       "      <td>SEO</td>\n",
       "      <td>Safari</td>\n",
       "      <td>M</td>\n",
       "      <td>41</td>\n",
       "      <td>3.840542e+09</td>\n",
       "      <td>0</td>\n",
       "    </tr>\n",
       "    <tr>\n",
       "      <th>4</th>\n",
       "      <td>221365</td>\n",
       "      <td>21-07-2015 07:09</td>\n",
       "      <td>09-09-2015 18:40</td>\n",
       "      <td>39</td>\n",
       "      <td>NAUITBZFJKHWW</td>\n",
       "      <td>Ads</td>\n",
       "      <td>Safari</td>\n",
       "      <td>M</td>\n",
       "      <td>45</td>\n",
       "      <td>4.155831e+08</td>\n",
       "      <td>0</td>\n",
       "    </tr>\n",
       "  </tbody>\n",
       "</table>\n",
       "</div>"
      ],
      "text/plain": [
       "   user_id       signup_time     purchase_time  purchase_value      device_id  \\\n",
       "0    22058  24-02-2015 22:55  18-04-2015 02:47              34  QVPSPJUOCKZAR   \n",
       "1   333320  07-06-2015 20:39  08-06-2015 01:38              16  EOGFQPIZPYXFZ   \n",
       "2     1359  01-01-2015 18:52  01-01-2015 18:52              15  YSSKYOSJHPPLJ   \n",
       "3   150084  28-04-2015 21:13  04-05-2015 13:54              44  ATGTXKYKUDUQN   \n",
       "4   221365  21-07-2015 07:09  09-09-2015 18:40              39  NAUITBZFJKHWW   \n",
       "\n",
       "  source browser sex  age    ip_address  class  \n",
       "0    SEO  Chrome   M   39  7.327584e+08      0  \n",
       "1    Ads  Chrome   F   53  3.503114e+08      0  \n",
       "2    SEO   Opera   M   53  2.621474e+09      1  \n",
       "3    SEO  Safari   M   41  3.840542e+09      0  \n",
       "4    Ads  Safari   M   45  4.155831e+08      0  "
      ]
     },
     "execution_count": 4,
     "metadata": {},
     "output_type": "execute_result"
    }
   ],
   "source": [
    "fraud_data.head()"
   ]
  },
  {
   "cell_type": "code",
   "execution_count": 5,
   "metadata": {
    "colab": {
     "base_uri": "https://localhost:8080/",
     "height": 282
    },
    "colab_type": "code",
    "executionInfo": {
     "elapsed": 828,
     "status": "ok",
     "timestamp": 1563102851366,
     "user": {
      "displayName": "Huy Nguyễn",
      "photoUrl": "",
      "userId": "13364631244044480504"
     },
     "user_tz": -180
    },
    "id": "I0ldyXixLbWx",
    "outputId": "82c76a4c-d30c-4ef0-88a4-3e1dd9792eb6"
   },
   "outputs": [
    {
     "data": {
      "text/plain": [
       "<AxesSubplot:>"
      ]
     },
     "execution_count": 5,
     "metadata": {},
     "output_type": "execute_result"
    },
    {
     "data": {
      "image/png": "[encoded data removed]",
      "text/plain": [
       "<Figure size 640x480 with 1 Axes>"
      ]
     },
     "metadata": {},
     "output_type": "display_data"
    }
   ],
   "source": [
    "# plot the number of two kinds of class so that we can see this data is imbalance\n",
    "fraud=fraud_data[fraud_data['class']==1]['class'].value_counts()\n",
    "not_fraud=fraud_data[fraud_data['class']==0]['class'].value_counts()\n",
    "df=pd.DataFrame([ not_fraud, fraud])\n",
    "df.index=['0','1']\n",
    "df.plot(kind='bar')"
   ]
  },
  {
   "cell_type": "markdown",
   "metadata": {
    "colab_type": "text",
    "id": "OgfAONJkYt3F"
   },
   "source": [
    "### Time Processing\n"
   ]
  },
  {
   "cell_type": "markdown",
   "metadata": {
    "colab_type": "text",
    "id": "BNgRpvB8Ngk-"
   },
   "source": [
    "_ First, convert all the cells in colums 'purchase_time' and 'signup_time' into time series so that we can easily process this fearure\n",
    "\n",
    "_ Minus two columns and pass it to columns ' difference' because, the transactions which are fraud usually have the small difference between  'purchase_time'  and  'signup_time'\n",
    "\n",
    "_ Get the specific day of week base on ' 'purchase_time'\n",
    "\n",
    "_ Encode the categorical values into numerical values"
   ]
  },
  {
   "cell_type": "code",
   "execution_count": 6,
   "metadata": {
    "colab": {},
    "colab_type": "code",
    "id": "-tvLvkqyYt3G"
   },
   "outputs": [],
   "source": [
    "# Convert to date time type\n",
    "fraud_data['purchase_time']=pd.to_datetime(fraud_data['purchase_time'], errors='coerce')\n",
    "fraud_data['signup_time']=pd.to_datetime(fraud_data['signup_time'], errors='coerce')\n",
    "fraud_data['difference']=fraud_data['purchase_time']-fraud_data['signup_time']\n",
    "fraud_data['difference']=fraud_data['difference'].astype('timedelta64[m]')"
   ]
  },
  {
   "cell_type": "code",
   "execution_count": 7,
   "metadata": {
    "colab": {},
    "colab_type": "code",
    "id": "D_RFzMU8Yt3Q"
   },
   "outputs": [],
   "source": [
    "# Only get the hours from singup time and purchase time\n",
    "fraud_data['signup_hour']=fraud_data['signup_time'].dt.hour\n",
    "fraud_data['purchase_hour']=fraud_data['purchase_time'].dt.hour"
   ]
  },
  {
   "cell_type": "code",
   "execution_count": 8,
   "metadata": {
    "colab": {},
    "colab_type": "code",
    "id": "I1Z2CQn4Yt3W"
   },
   "outputs": [],
   "source": [
    "# Get the day of week\n",
    "fraud_data['purchase_dayofweek']=fraud_data['purchase_time'].dt.strftime('%A')"
   ]
  },
  {
   "cell_type": "code",
   "execution_count": 9,
   "metadata": {
    "colab": {},
    "colab_type": "code",
    "id": "91iJR5yixCk6"
   },
   "outputs": [],
   "source": [
    "#Encode the categorical values into numerical values\n",
    "fraud_data['purchase_dayofweek'], key_dayofweek=fraud_data['purchase_dayofweek'].factorize(sort=True)"
   ]
  },
  {
   "cell_type": "markdown",
   "metadata": {
    "colab_type": "text",
    "id": "ZWFZJddpYt3i"
   },
   "source": [
    "### User_id and Device_id"
   ]
  },
  {
   "cell_type": "markdown",
   "metadata": {
    "colab_type": "text",
    "id": "_TrZZqOHP_to"
   },
   "source": [
    "_ Encode 'device_id' to numerical value\n",
    "\n",
    "_ Define two new colums 'usage_device_count' and 'usage_ip_count' which are the counts  device used and ip used"
   ]
  },
  {
   "cell_type": "code",
   "execution_count": 10,
   "metadata": {
    "colab": {},
    "colab_type": "code",
    "id": "lW_Cqk0mYt3k"
   },
   "outputs": [],
   "source": [
    "# Endcode this fearture\n",
    "fraud_data['device_id'], key_device=fraud_data['device_id'].factorize(sort=True)\n",
    "\n",
    "#Define two new columns\n",
    "u, indices, counts=np.unique(fraud_data['device_id'], return_inverse=True, return_counts=True)\n",
    "fraud_data['usage_device_count']= counts[indices]\n",
    "u, indices, counts=np.unique(fraud_data['ip_address'], return_inverse=True, return_counts=True)\n",
    "fraud_data['usage_ip_count']= counts[indices]"
   ]
  },
  {
   "cell_type": "markdown",
   "metadata": {
    "colab_type": "text",
    "id": "RtvfuRiHYt36"
   },
   "source": [
    "### Sex"
   ]
  },
  {
   "cell_type": "code",
   "execution_count": 11,
   "metadata": {
    "colab": {
     "base_uri": "https://localhost:8080/",
     "height": 279
    },
    "colab_type": "code",
    "executionInfo": {
     "elapsed": 905,
     "status": "ok",
     "timestamp": 1563094045769,
     "user": {
      "displayName": "Huy Nguyễn",
      "photoUrl": "",
      "userId": "13364631244044480504"
     },
     "user_tz": -180
    },
    "id": "yZsAK556Yt38",
    "outputId": "9ad62c86-42af-441d-f0b3-45b87f98426a"
   },
   "outputs": [
    {
     "data": {
      "image/png": "[encoded data removed]",
      "text/plain": [
       "<Figure size 640x480 with 1 Axes>"
      ]
     },
     "metadata": {},
     "output_type": "display_data"
    }
   ],
   "source": [
    "barchart('sex')"
   ]
  },
  {
   "cell_type": "code",
   "execution_count": 12,
   "metadata": {
    "colab": {},
    "colab_type": "code",
    "id": "43c5cKr7Yt4a"
   },
   "outputs": [],
   "source": [
    "#Encode this fearture\n",
    "fraud_data['sex'], key_sex=fraud_data['sex'].factorize(sort=True)"
   ]
  },
  {
   "cell_type": "markdown",
   "metadata": {
    "colab_type": "text",
    "id": "EWTo1v4eYt4s"
   },
   "source": [
    "### Source"
   ]
  },
  {
   "cell_type": "code",
   "execution_count": 13,
   "metadata": {
    "colab": {
     "base_uri": "https://localhost:8080/",
     "height": 279
    },
    "colab_type": "code",
    "executionInfo": {
     "elapsed": 1138,
     "status": "ok",
     "timestamp": 1563094047870,
     "user": {
      "displayName": "Huy Nguyễn",
      "photoUrl": "",
      "userId": "13364631244044480504"
     },
     "user_tz": -180
    },
    "id": "YHnrAoI0Yt4u",
    "outputId": "c18cbdfa-bdd9-4ef1-fe44-c515ea650470"
   },
   "outputs": [
    {
     "data": {
      "image/png": "[encoded data removed]",
      "text/plain": [
       "<Figure size 640x480 with 1 Axes>"
      ]
     },
     "metadata": {},
     "output_type": "display_data"
    }
   ],
   "source": [
    "barchart('source')"
   ]
  },
  {
   "cell_type": "code",
   "execution_count": 14,
   "metadata": {
    "colab": {},
    "colab_type": "code",
    "id": "A3VWHfv7Yt44"
   },
   "outputs": [],
   "source": [
    "#Encode this fearture\n",
    "fraud_data['source'], key_source=fraud_data['source'].factorize(sort=True)"
   ]
  },
  {
   "cell_type": "markdown",
   "metadata": {
    "colab_type": "text",
    "id": "j2m_gTSbYt5B"
   },
   "source": [
    "### Brower"
   ]
  },
  {
   "cell_type": "code",
   "execution_count": 15,
   "metadata": {
    "colab": {
     "base_uri": "https://localhost:8080/",
     "height": 279
    },
    "colab_type": "code",
    "executionInfo": {
     "elapsed": 1322,
     "status": "ok",
     "timestamp": 1563094049590,
     "user": {
      "displayName": "Huy Nguyễn",
      "photoUrl": "",
      "userId": "13364631244044480504"
     },
     "user_tz": -180
    },
    "id": "A4e-qDTnYt5C",
    "outputId": "b3eff3d4-271c-4e7f-c113-ac29d03d0d06"
   },
   "outputs": [
    {
     "data": {
      "image/png": "[encoded data removed]",
      "text/plain": [
       "<Figure size 640x480 with 1 Axes>"
      ]
     },
     "metadata": {},
     "output_type": "display_data"
    }
   ],
   "source": [
    "barchart('browser')"
   ]
  },
  {
   "cell_type": "code",
   "execution_count": 16,
   "metadata": {
    "colab": {},
    "colab_type": "code",
    "id": "Gd5bHfPTYt5H"
   },
   "outputs": [],
   "source": [
    "#Encode this fearture\n",
    "fraud_data['browser'], key_browser=fraud_data['browser'].factorize(sort=True)"
   ]
  },
  {
   "cell_type": "markdown",
   "metadata": {
    "colab_type": "text",
    "id": "XRYb0Dw_Yt5N"
   },
   "source": [
    "###  IP Adress"
   ]
  },
  {
   "cell_type": "markdown",
   "metadata": {
    "colab_type": "text",
    "id": "DZBQFJWERljs"
   },
   "source": [
    "_ First we find the country of every single ip address by mapping the ip into the 'ip_country' dataframe \n",
    "\n",
    "_ Encode the country columns to numerical number"
   ]
  },
  {
   "cell_type": "code",
   "execution_count": 17,
   "metadata": {
    "colab": {},
    "colab_type": "code",
    "id": "OywHsDidYt5R"
   },
   "outputs": [],
   "source": [
    "# Function to map\n",
    "def map_ip_address(i):\n",
    "    result=ip_country[(ip_country['lower_bound_ip_address'].le(i))&\n",
    "                     (ip_country['upper_bound_ip_address'].ge(i))]['country'].values\n",
    "    if result.shape[0] >0:\n",
    "        return result[0]\n",
    "    else:\n",
    "        return np.NaN"
   ]
  },
  {
   "cell_type": "code",
   "execution_count": null,
   "metadata": {
    "colab": {},
    "colab_type": "code",
    "id": "SV-UtOS8Yt5U"
   },
   "outputs": [],
   "source": [
    "# Mapping\n",
    "fraud_data['country']=fraud_data['ip_address'].map(map_ip_address)"
   ]
  },
  {
   "cell_type": "code",
   "execution_count": null,
   "metadata": {
    "colab": {},
    "colab_type": "code",
    "id": "7oOzGRG7Yt5X"
   },
   "outputs": [],
   "source": [
    "#Encode\n",
    "fraud_data['country'], key=fraud_data['country'].factorize(sort=True)"
   ]
  },
  {
   "cell_type": "markdown",
   "metadata": {
    "colab_type": "text",
    "id": "QiXC5i0eYt5d"
   },
   "source": [
    "### Correlation"
   ]
  },
  {
   "cell_type": "markdown",
   "metadata": {
    "colab_type": "text",
    "id": "v8I7LVGXSvIm"
   },
   "source": [
    "_ See the correlation betweem every singel feature to each other"
   ]
  },
  {
   "cell_type": "code",
   "execution_count": null,
   "metadata": {
    "colab": {},
    "colab_type": "code",
    "id": "YqWF-lKLYt5e"
   },
   "outputs": [],
   "source": [
    "import seaborn as sns"
   ]
  },
  {
   "cell_type": "code",
   "execution_count": null,
   "metadata": {
    "colab": {
     "base_uri": "https://localhost:8080/",
     "height": 812
    },
    "colab_type": "code",
    "executionInfo": {
     "elapsed": 2692,
     "status": "ok",
     "timestamp": 1563094446533,
     "user": {
      "displayName": "Huy Nguyễn",
      "photoUrl": "",
      "userId": "13364631244044480504"
     },
     "user_tz": -180
    },
    "id": "JM7MS6LUYt5g",
    "outputId": "2362b734-7257-41e8-cdd5-7b57cb60902e",
    "scrolled": true
   },
   "outputs": [],
   "source": [
    "plt.figure(figsize=(12,12))\n",
    "sns.heatmap(fraud_data.corr(),annot=True)"
   ]
  },
  {
   "cell_type": "code",
   "execution_count": null,
   "metadata": {
    "colab": {},
    "colab_type": "code",
    "id": "r_D5AfheYt5i"
   },
   "outputs": [],
   "source": [
    "# Drop the feautures which are not neccessary\n",
    "#fraud_data=fraud_data.drop(['user_id','signup_time','purchase_time'], axis=1)"
   ]
  },
  {
   "cell_type": "code",
   "execution_count": null,
   "metadata": {
    "colab": {
     "base_uri": "https://localhost:8080/",
     "height": 215
    },
    "colab_type": "code",
    "executionInfo": {
     "elapsed": 644,
     "status": "ok",
     "timestamp": 1563095748239,
     "user": {
      "displayName": "Huy Nguyễn",
      "photoUrl": "",
      "userId": "13364631244044480504"
     },
     "user_tz": -180
    },
    "id": "xtMkNFHWmB_K",
    "outputId": "8fedf6f8-6f9e-4be4-c1d6-c43e6bba30b4"
   },
   "outputs": [],
   "source": [
    "# After processing, the data looks like this\n",
    "fraud_data.head()"
   ]
  },
  {
   "cell_type": "code",
   "execution_count": null,
   "metadata": {
    "colab": {},
    "colab_type": "code",
    "id": "UI32xljBmTkc"
   },
   "outputs": [],
   "source": [
    "fraud_data.to_csv('Data/data_after_process.csv')"
   ]
  },
  {
   "cell_type": "markdown",
   "metadata": {
    "colab_type": "text",
    "id": "5_RNLhNRnhpS"
   },
   "source": [
    "# **Training data**"
   ]
  },
  {
   "cell_type": "markdown",
   "metadata": {
    "colab_type": "text",
    "id": "utTtqaWAn6v6"
   },
   "source": [
    "### **Split Data**"
   ]
  },
  {
   "cell_type": "code",
   "execution_count": null,
   "metadata": {
    "colab": {},
    "colab_type": "code",
    "id": "saNVFUz7n-9x"
   },
   "outputs": [],
   "source": [
    "#Split data\n",
    "from sklearn.model_selection import train_test_split\n",
    "\n",
    "X=fraud_data.drop(['class'], axis=1)\n",
    "X['signup_time'] = pd.to_datetime(X['signup_time'],infer_datetime_format=True)\n",
    "X['signup_time']=X['signup_time'].apply(lambda x: x.toordinal())\n",
    "X['purchase_time'] = pd.to_datetime(X['purchase_time'],infer_datetime_format=True)\n",
    "X['purchase_time']=X['purchase_time'].apply(lambda x: x.toordinal())\n",
    "y=fraud_data['class']\n",
    "X_train,X_test, y_train,y_test= train_test_split(X,y, test_size=0.3)"
   ]
  },
  {
   "cell_type": "markdown",
   "metadata": {
    "colab_type": "text",
    "id": "v9r1LoQSvG6y"
   },
   "source": [
    "### **Train data**"
   ]
  },
  {
   "cell_type": "code",
   "execution_count": null,
   "metadata": {
    "colab": {
     "base_uri": "https://localhost:8080/",
     "height": 121
    },
    "colab_type": "code",
    "executionInfo": {
     "elapsed": 7029,
     "status": "ok",
     "timestamp": 1563101108045,
     "user": {
      "displayName": "Huy Nguyễn",
      "photoUrl": "",
      "userId": "13364631244044480504"
     },
     "user_tz": -180
    },
    "id": "fB4RuIOlvLCn",
    "outputId": "f9143ec3-ad70-4c8b-a64e-b5379155e98a"
   },
   "outputs": [],
   "source": [
    "# Fit the data using 3 machine learning model K neigbour, Random Forest and Decision Tree\n",
    "from sklearn.neighbors import KNeighborsClassifier\n",
    "from sklearn.ensemble import RandomForestClassifier\n",
    "from sklearn.tree import DecisionTreeClassifier \n",
    "\n",
    "knn_clf=KNeighborsClassifier(n_neighbors=5,algorithm='ball_tree', weights='distance')\n",
    "knn_clf.fit(X_train, y_train)\n",
    "\n",
    "\n",
    "\n",
    "\n",
    "rf_clf=RandomForestClassifier(class_weight='balanced')\n",
    "rf_clf.fit(X_train, y_train)\n",
    "\n",
    "\n",
    "dt_clf=DecisionTreeClassifier()\n",
    "dt_clf.fit(X_train, y_train)\n"
   ]
  },
  {
   "cell_type": "code",
   "execution_count": null,
   "metadata": {
    "colab": {},
    "colab_type": "code",
    "id": "mt3P_HGTB6ng"
   },
   "outputs": [],
   "source": [
    "# Evaluate every algorithms to find out the best one\n",
    "from sklearn.model_selection import KFold\n",
    "from sklearn.model_selection import cross_val_score\n",
    "k_fold=KFold(n_splits=10,shuffle=True, random_state=0)"
   ]
  },
  {
   "cell_type": "code",
   "execution_count": null,
   "metadata": {
    "colab": {
     "base_uri": "https://localhost:8080/",
     "height": 390
    },
    "colab_type": "code",
    "executionInfo": {
     "elapsed": 28992,
     "status": "ok",
     "timestamp": 1563100434949,
     "user": {
      "displayName": "Huy Nguyễn",
      "photoUrl": "",
      "userId": "13364631244044480504"
     },
     "user_tz": -180
    },
    "id": "RhAyayoNCBNy",
    "outputId": "888e7d64-45b6-4f3f-9717-aaf4b59ff7c4"
   },
   "outputs": [],
   "source": [
    "# This is the best one which has the best results\n",
    "# The only thing we need to take care is : This is the imbalance data, so we can not use the normal metric to evaluate\n",
    "# We use 'roc_auc' to evaluate the model\n",
    "rf_clf=RandomForestClassifier(class_weight='balanced')\n",
    "score=cross_val_score(rf_clf, X_train, y_train, cv=k_fold, n_jobs=1, scoring='roc_auc')\n",
    "rf_clf.fit(X_train, y_train)\n",
    "print(np.mean(score)*100,2)"
   ]
  },
  {
   "cell_type": "code",
   "execution_count": null,
   "metadata": {
    "colab": {
     "base_uri": "https://localhost:8080/",
     "height": 34
    },
    "colab_type": "code",
    "executionInfo": {
     "elapsed": 5217,
     "status": "ok",
     "timestamp": 1563100529075,
     "user": {
      "displayName": "Huy Nguyễn",
      "photoUrl": "",
      "userId": "13364631244044480504"
     },
     "user_tz": -180
    },
    "id": "aDYbyxt0C2Bg",
    "outputId": "d84f5562-38e1-40a2-bb0b-bca0446841b9"
   },
   "outputs": [],
   "source": [
    "knn_clf=KNeighborsClassifier(n_neighbors=5,algorithm='ball_tree', weights='distance')\n",
    "score=cross_val_score(knn_clf, X_train, y_train, cv=k_fold, n_jobs=1, scoring='roc_auc')\n",
    "knn_clf.fit(X_train, y_train)\n",
    "print(np.mean(score)*100,2)\n"
   ]
  },
  {
   "cell_type": "code",
   "execution_count": null,
   "metadata": {
    "colab": {
     "base_uri": "https://localhost:8080/",
     "height": 34
    },
    "colab_type": "code",
    "executionInfo": {
     "elapsed": 21692,
     "status": "ok",
     "timestamp": 1563100580617,
     "user": {
      "displayName": "Huy Nguyễn",
      "photoUrl": "",
      "userId": "13364631244044480504"
     },
     "user_tz": -180
    },
    "id": "xnCnqFEIDSzi",
    "outputId": "80f1b48d-3683-45da-85c8-e280868f5d53"
   },
   "outputs": [],
   "source": [
    "dt_clf=DecisionTreeClassifier()\n",
    "score=cross_val_score(dt_clf, X_train, y_train, cv=k_fold, n_jobs=1, scoring='roc_auc')\n",
    "dt_clf.fit(X_train, y_train)\n",
    "print(np.mean(score)*100,2)"
   ]
  },
  {
   "cell_type": "code",
   "execution_count": null,
   "metadata": {
    "colab": {},
    "colab_type": "code",
    "id": "z6vHkfi9DbW6"
   },
   "outputs": [],
   "source": [
    "# Find the auc of every model and plot it\n",
    "from sklearn.metrics import roc_curve, auc\n",
    "\n",
    "\n",
    "y_pred_rf=rf_clf.predict(X_test)\n",
    "y_pred_prob_rf=rf_clf.predict_proba(X_test)\n",
    "fpr_rf, tpr_rf, thresholds_rf= roc_curve(y_test, y_pred_prob_rf[:,1])\n",
    "auc_rf=auc(fpr_rf, tpr_rf)\n",
    "\n",
    "y_pred_knn=knn_clf.predict(X_test)\n",
    "y_pred_prob_knn=knn_clf.predict_proba(X_test)\n",
    "fpr_knn, tpr_knn, thresholds_knn= roc_curve(y_test, y_pred_prob_knn[:,1])\n",
    "auc_knn=auc(fpr_knn, tpr_knn)\n",
    "\n",
    "y_pred_dt=dt_clf.predict(X_test)\n",
    "y_pred_prob_dt=dt_clf.predict_proba(X_test)\n",
    "fpr_dt, tpr_dt, thresholds_dt= roc_curve(y_test, y_pred_prob_dt[:,1])\n",
    "auc_dt=auc(fpr_dt, tpr_dt)\n"
   ]
  },
  {
   "cell_type": "code",
   "execution_count": null,
   "metadata": {
    "colab": {
     "base_uri": "https://localhost:8080/",
     "height": 295
    },
    "colab_type": "code",
    "executionInfo": {
     "elapsed": 1081,
     "status": "ok",
     "timestamp": 1563102495119,
     "user": {
      "displayName": "Huy Nguyễn",
      "photoUrl": "",
      "userId": "13364631244044480504"
     },
     "user_tz": -180
    },
    "id": "5C0R2CdfFxTi",
    "outputId": "e025b059-a232-4aac-ae58-6f094aa1bae9"
   },
   "outputs": [],
   "source": [
    "# Plot the ROC of each model, we also see the ROC is the best model from the graph\n",
    "plt.title('ROC')\n",
    "plt.plot(fpr_rf, tpr_rf,'b', label='AUC (Random Forest = %0.2f)' % auc_rf)\n",
    "plt.plot(fpr_knn, tpr_knn,'g', label='AUC (KNN = %0.2f)' % auc_knn)\n",
    "plt.plot(fpr_dt, tpr_dt,'y', label='AUC (Decision Tree = %0.2f)' % auc_dt)\n",
    "plt.legend()\n",
    "plt.grid()\n",
    "plt.plot([0.0, 1.0],[0.0, 1.0],'r--')\n",
    "plt.xlim([0.0, 1.0])\n",
    "plt.ylim([0.0, 1.0])\n",
    "plt.xlabel('False Positive Rate')\n",
    "plt.ylabel('True Positive Rate')\n",
    "plt.show()"
   ]
  },
  {
   "cell_type": "code",
   "execution_count": null,
   "metadata": {},
   "outputs": [],
   "source": [
    "y_pred_rfs=rf_clf.predict(X_test[0:1])\n",
    "print(y_pred_rfs)\n",
    "print(X_test[0:1])"
   ]
  },
  {
   "cell_type": "code",
   "execution_count": null,
   "metadata": {},
   "outputs": [],
   "source": [
    "from sklearn.linear_model import LogisticRegression\n",
    "from sklearn.metrics import classification_report, roc_curve, auc\n",
    "LRmodel = LogisticRegression(solver='lbfgs')\n",
    "LRmodel.fit(X_train, y_train)\n",
    "loacc=LRmodel.score(X_test, y_test)\n",
    "preds = LRmodel.predict(X_test)\n",
    "print(loacc) \n",
    "print(classification_report(y_test, preds))"
   ]
  },
  {
   "cell_type": "code",
   "execution_count": null,
   "metadata": {},
   "outputs": [],
   "source": [
    "from sklearn.ensemble import VotingClassifier\n",
    "from sklearn.metrics import classification_report, roc_curve, auc\n",
    "    #create a dictionary of base learners\n",
    "estimators=[('rfc', rf_clf), ('LR', LRmodel)]\n",
    "    #create voting classifier\n",
    "majority_voting = VotingClassifier(estimators, voting='soft')\n",
    "\n",
    "    #fit model to training data\n",
    "majority_voting.fit(X_train, y_train)\n",
    "    #test our model on the test data\n",
    "vacc=majority_voting.score(X_test, y_test)\n",
    "preds = majority_voting.predict(X_test)\n",
    "print(vacc)    \n",
    "print(classification_report(y_test, preds))"
   ]
  },
  {
   "cell_type": "code",
   "execution_count": null,
   "metadata": {},
   "outputs": [],
   "source": []
  }
 ],
 "metadata": {
  "accelerator": "TPU",
  "colab": {
   "collapsed_sections": [],
   "name": "Untitled.ipynb",
   "provenance": [],
   "toc_visible": true,
   "version": "0.3.2"
  },
  "kernelspec": {
   "display_name": "Python 3 (ipykernel)",
   "language": "python",
   "name": "python3"
  },
  "language_info": {
   "codemirror_mode": {
    "name": "ipython",
    "version": 3
   },
   "file_extension": ".py",
   "mimetype": "text/x-python",
   "name": "python",
   "nbconvert_exporter": "python",
   "pygments_lexer": "ipython3",
   "version": "3.7.12"
  }
 },
 "nbformat": 4,
 "nbformat_minor": 1
}
